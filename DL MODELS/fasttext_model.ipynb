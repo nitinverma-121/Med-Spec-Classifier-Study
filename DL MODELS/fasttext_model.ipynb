{
  "cells": [
    {
      "cell_type": "markdown",
      "metadata": {},
      "source": [
        "## DONE USING GOOGLE COLAB"
      ]
    },
    {
      "cell_type": "code",
      "execution_count": 1,
      "metadata": {
        "colab": {
          "base_uri": "https://localhost:8080/"
        },
        "id": "x7d18ijU8lxV",
        "outputId": "6100dbab-ccd9-41af-c390-bad2042f902e"
      },
      "outputs": [
        {
          "name": "stdout",
          "output_type": "stream",
          "text": [
            "Collecting fasttext\n",
            "  Downloading fasttext-0.9.2.tar.gz (68 kB)\n",
            "\u001b[?25l     \u001b[90m━━━━━━━━━━━━━━━━━━━━━━━━━━━━━━━━━━━━━━━━\u001b[0m \u001b[32m0.0/68.8 kB\u001b[0m \u001b[31m?\u001b[0m eta \u001b[36m-:--:--\u001b[0m\r\u001b[2K     \u001b[91m━━━━━━━━━━━━━━━━━━━━━━━━━━━━━━━━━━━\u001b[0m\u001b[91m╸\u001b[0m\u001b[90m━━━━\u001b[0m \u001b[32m61.4/68.8 kB\u001b[0m \u001b[31m1.6 MB/s\u001b[0m eta \u001b[36m0:00:01\u001b[0m\r\u001b[2K     \u001b[90m━━━━━━━━━━━━━━━━━━━━━━━━━━━━━━━━━━━━━━━━\u001b[0m \u001b[32m68.8/68.8 kB\u001b[0m \u001b[31m1.4 MB/s\u001b[0m eta \u001b[36m0:00:00\u001b[0m\n",
            "\u001b[?25h  Preparing metadata (setup.py) ... \u001b[?25l\u001b[?25hdone\n",
            "Collecting pybind11>=2.2 (from fasttext)\n",
            "  Using cached pybind11-2.11.1-py3-none-any.whl (227 kB)\n",
            "Requirement already satisfied: setuptools>=0.7.0 in /usr/local/lib/python3.10/dist-packages (from fasttext) (67.7.2)\n",
            "Requirement already satisfied: numpy in /usr/local/lib/python3.10/dist-packages (from fasttext) (1.23.5)\n",
            "Building wheels for collected packages: fasttext\n",
            "  Building wheel for fasttext (setup.py) ... \u001b[?25l\u001b[?25hdone\n",
            "  Created wheel for fasttext: filename=fasttext-0.9.2-cp310-cp310-linux_x86_64.whl size=4199772 sha256=dd98b46490348663851f41101bd21cd8b8d2f40493425a82bbd6206630d21568\n",
            "  Stored in directory: /root/.cache/pip/wheels/a5/13/75/f811c84a8ab36eedbaef977a6a58a98990e8e0f1967f98f394\n",
            "Successfully built fasttext\n",
            "Installing collected packages: pybind11, fasttext\n",
            "Successfully installed fasttext-0.9.2 pybind11-2.11.1\n"
          ]
        }
      ],
      "source": [
        "pip install fasttext"
      ]
    },
    {
      "cell_type": "code",
      "execution_count": 2,
      "metadata": {
        "id": "0GLnOdy48_eI"
      },
      "outputs": [],
      "source": [
        "import fasttext"
      ]
    },
    {
      "cell_type": "code",
      "execution_count": 53,
      "metadata": {
        "id": "Bh9wnwgT-pK_"
      },
      "outputs": [],
      "source": [
        "model= fasttext.train_supervised(\"D:/Users/NITIN VERMA/Desktop/DL-NLP/MED PROJECT/data/med_train.csv\", epoch=50)\n"
      ]
    },
    {
      "cell_type": "code",
      "execution_count": 54,
      "metadata": {
        "colab": {
          "base_uri": "https://localhost:8080/"
        },
        "id": "Jrnq-PX7-7_L",
        "outputId": "c3a73e43-9d84-4d20-d935-03d41e6575fd"
      },
      "outputs": [
        {
          "data": {
            "text/plain": [
              "(240, 0.6541666666666667, 0.6541666666666667)"
            ]
          },
          "execution_count": 54,
          "metadata": {},
          "output_type": "execute_result"
        }
      ],
      "source": [
        "model.test(\"D:/Users/NITIN VERMA/Desktop/DL-NLP/MED PROJECT/data/med_test.csv\")"
      ]
    },
    {
      "cell_type": "code",
      "execution_count": 55,
      "metadata": {
        "colab": {
          "base_uri": "https://localhost:8080/"
        },
        "id": "mOwtS9mcC7KL",
        "outputId": "2a939e05-90ad-4c70-db2a-bd852c9f2770"
      },
      "outputs": [
        {
          "data": {
            "text/plain": [
              "(('__label__radiology',), array([0.56058407]))"
            ]
          },
          "execution_count": 55,
          "metadata": {},
          "output_type": "execute_result"
        }
      ],
      "source": [
        "model.predict(\"Upon reviewing the MRI scans, the radiologist identified a focal area of increased signal intensity in the left frontal lobe, suggestive of a possible glioma. Further diagnostic procedures and consultation with a neurosurgeon are recommended to determine the appropriate course of action.\")"
      ]
    },
    {
      "cell_type": "code",
      "execution_count": 56,
      "metadata": {
        "colab": {
          "base_uri": "https://localhost:8080/"
        },
        "id": "yrA36BczDHRQ",
        "outputId": "27d0754d-096c-4e70-ffd6-592849778c61"
      },
      "outputs": [
        {
          "data": {
            "text/plain": [
              "(('__label__cardiovascular_pulmonary',), array([0.90105778]))"
            ]
          },
          "execution_count": 56,
          "metadata": {},
          "output_type": "execute_result"
        }
      ],
      "source": [
        "model.predict(\"The chest X-ray revealed bilateral opacities with a ground-glass appearance predominantly in the lower lung fields. These findings are consistent with the radiographic pattern often associated with viral pneumonia, warranting further clinical assessment and consideration of appropriate interventions.\")"
      ]
    },
    {
      "cell_type": "code",
      "execution_count": 57,
      "metadata": {
        "colab": {
          "base_uri": "https://localhost:8080/"
        },
        "id": "6CG7lclKDoj0",
        "outputId": "1fb15c3b-980e-4b68-8fac-e59d28f71764"
      },
      "outputs": [
        {
          "data": {
            "text/plain": [
              "(('__label__gastroenterology',), array([0.74893528]))"
            ]
          },
          "execution_count": 57,
          "metadata": {},
          "output_type": "execute_result"
        }
      ],
      "source": [
        "model.predict(\"Following the upper gastrointestinal endoscopy, erosive gastritis was observed in the antral region of the stomach. Biopsy samples were taken to evaluate for Helicobacter pylori infection and to assess the severity of inflammation. The patient will be prescribed proton pump inhibitors and a follow-up endoscopy is recommended to monitor the healing progress.\")"
      ]
    }
  ],
  "metadata": {
    "accelerator": "GPU",
    "colab": {
      "gpuType": "T4",
      "provenance": []
    },
    "kernelspec": {
      "display_name": "Python 3",
      "name": "python3"
    },
    "language_info": {
      "name": "python"
    }
  },
  "nbformat": 4,
  "nbformat_minor": 0
}
