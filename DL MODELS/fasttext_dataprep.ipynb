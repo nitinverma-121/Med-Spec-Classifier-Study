{
 "cells": [
  {
   "cell_type": "code",
   "execution_count": 8,
   "metadata": {},
   "outputs": [],
   "source": [
    "import pandas as pd\n",
    "from sklearn.model_selection import train_test_split"
   ]
  },
  {
   "cell_type": "code",
   "execution_count": 4,
   "metadata": {},
   "outputs": [
    {
     "data": {
      "text/html": [
       "<div>\n",
       "<style scoped>\n",
       "    .dataframe tbody tr th:only-of-type {\n",
       "        vertical-align: middle;\n",
       "    }\n",
       "\n",
       "    .dataframe tbody tr th {\n",
       "        vertical-align: top;\n",
       "    }\n",
       "\n",
       "    .dataframe thead th {\n",
       "        text-align: right;\n",
       "    }\n",
       "</style>\n",
       "<table border=\"1\" class=\"dataframe\">\n",
       "  <thead>\n",
       "    <tr style=\"text-align: right;\">\n",
       "      <th></th>\n",
       "      <th>Unnamed: 0</th>\n",
       "      <th>medical_specialty</th>\n",
       "      <th>transcription</th>\n",
       "      <th>medical_label</th>\n",
       "      <th>word2vec_embed</th>\n",
       "      <th>fasttext_label</th>\n",
       "    </tr>\n",
       "  </thead>\n",
       "  <tbody>\n",
       "    <tr>\n",
       "      <th>0</th>\n",
       "      <td>3</td>\n",
       "      <td>cardiovascular_pulmonary</td>\n",
       "      <td>d m mode leave atrial enlargement left atrial ...</td>\n",
       "      <td>0</td>\n",
       "      <td>[-3.9130253e-01  1.6925055e+00 -9.7060895e-01 ...</td>\n",
       "      <td>__label__cardiovascular_pulmonary d m mode lea...</td>\n",
       "    </tr>\n",
       "    <tr>\n",
       "      <th>1</th>\n",
       "      <td>4</td>\n",
       "      <td>cardiovascular_pulmonary</td>\n",
       "      <td>left ventricular cavity size wall thickness ap...</td>\n",
       "      <td>0</td>\n",
       "      <td>[-5.44876158e-01  1.30335271e+00 -1.53507555e+...</td>\n",
       "      <td>__label__cardiovascular_pulmonary left ventric...</td>\n",
       "    </tr>\n",
       "    <tr>\n",
       "      <th>2</th>\n",
       "      <td>7</td>\n",
       "      <td>cardiovascular_pulmonary</td>\n",
       "      <td>d echocardiogram multiple view heart great ves...</td>\n",
       "      <td>0</td>\n",
       "      <td>[-0.40531728  0.8317133  -1.0865903   0.296900...</td>\n",
       "      <td>__label__cardiovascular_pulmonary d echocardio...</td>\n",
       "    </tr>\n",
       "    <tr>\n",
       "      <th>3</th>\n",
       "      <td>9</td>\n",
       "      <td>cardiovascular_pulmonary</td>\n",
       "      <td>description normal cardiac chamber size normal...</td>\n",
       "      <td>0</td>\n",
       "      <td>[-0.3478441   0.9546592  -1.0535976   1.201930...</td>\n",
       "      <td>__label__cardiovascular_pulmonary description ...</td>\n",
       "    </tr>\n",
       "    <tr>\n",
       "      <th>4</th>\n",
       "      <td>11</td>\n",
       "      <td>cardiovascular_pulmonary</td>\n",
       "      <td>d study mild aortic stenosis widely calcify mi...</td>\n",
       "      <td>0</td>\n",
       "      <td>[ 0.27329454  1.1477208  -0.88355297  1.073992...</td>\n",
       "      <td>__label__cardiovascular_pulmonary d study mild...</td>\n",
       "    </tr>\n",
       "  </tbody>\n",
       "</table>\n",
       "</div>"
      ],
      "text/plain": [
       "   Unnamed: 0         medical_specialty  \\\n",
       "0           3  cardiovascular_pulmonary   \n",
       "1           4  cardiovascular_pulmonary   \n",
       "2           7  cardiovascular_pulmonary   \n",
       "3           9  cardiovascular_pulmonary   \n",
       "4          11  cardiovascular_pulmonary   \n",
       "\n",
       "                                       transcription  medical_label  \\\n",
       "0  d m mode leave atrial enlargement left atrial ...              0   \n",
       "1  left ventricular cavity size wall thickness ap...              0   \n",
       "2  d echocardiogram multiple view heart great ves...              0   \n",
       "3  description normal cardiac chamber size normal...              0   \n",
       "4  d study mild aortic stenosis widely calcify mi...              0   \n",
       "\n",
       "                                      word2vec_embed  \\\n",
       "0  [-3.9130253e-01  1.6925055e+00 -9.7060895e-01 ...   \n",
       "1  [-5.44876158e-01  1.30335271e+00 -1.53507555e+...   \n",
       "2  [-0.40531728  0.8317133  -1.0865903   0.296900...   \n",
       "3  [-0.3478441   0.9546592  -1.0535976   1.201930...   \n",
       "4  [ 0.27329454  1.1477208  -0.88355297  1.073992...   \n",
       "\n",
       "                                      fasttext_label  \n",
       "0  __label__cardiovascular_pulmonary d m mode lea...  \n",
       "1  __label__cardiovascular_pulmonary left ventric...  \n",
       "2  __label__cardiovascular_pulmonary d echocardio...  \n",
       "3  __label__cardiovascular_pulmonary description ...  \n",
       "4  __label__cardiovascular_pulmonary d study mild...  "
      ]
     },
     "execution_count": 4,
     "metadata": {},
     "output_type": "execute_result"
    }
   ],
   "source": [
    "data= pd.read_csv('D:/Users/NITIN VERMA/Desktop/DL-NLP/MED PROJECT/data/medical_new.csv')\n",
    "data.head()"
   ]
  },
  {
   "cell_type": "code",
   "execution_count": 6,
   "metadata": {},
   "outputs": [
    {
     "data": {
      "text/plain": [
       "0    __label__cardiovascular_pulmonary d m mode lea...\n",
       "1    __label__cardiovascular_pulmonary left ventric...\n",
       "2    __label__cardiovascular_pulmonary d echocardio...\n",
       "3    __label__cardiovascular_pulmonary description ...\n",
       "4    __label__cardiovascular_pulmonary d study mild...\n",
       "Name: fasttext_label, dtype: object"
      ]
     },
     "execution_count": 6,
     "metadata": {},
     "output_type": "execute_result"
    }
   ],
   "source": [
    "df= data['fasttext_label']\n",
    "df.head()"
   ]
  },
  {
   "cell_type": "code",
   "execution_count": 9,
   "metadata": {},
   "outputs": [],
   "source": [
    "#since i have just one column, i will give\n",
    "#train, test rather than x_train, x_test, y_train, y_test\n",
    "train, test= train_test_split(df, test_size= 0.2, random_state= 5354)"
   ]
  },
  {
   "cell_type": "code",
   "execution_count": 14,
   "metadata": {},
   "outputs": [
    {
     "data": {
      "text/plain": [
       "1043    __label__cardiovascular_pulmonary indication p...\n",
       "718     __label__neurology exam bilateral carotid ultr...\n",
       "748     __label__gastroenterology history present illn...\n",
       "434     __label__orthopedic preoperative diagnosis gan...\n",
       "800     __label__gastroenterology preoperative diagnos...\n",
       "Name: fasttext_label, dtype: object"
      ]
     },
     "execution_count": 14,
     "metadata": {},
     "output_type": "execute_result"
    }
   ],
   "source": [
    "train.head()"
   ]
  },
  {
   "cell_type": "code",
   "execution_count": 18,
   "metadata": {},
   "outputs": [],
   "source": [
    "#make the train and test file in a csv format\n",
    "train.to_csv('D:/Users/NITIN VERMA/Desktop/DL-NLP/MED PROJECT/data/med_train.csv', header= None, index= None)\n",
    "test.to_csv('D:/Users/NITIN VERMA/Desktop/DL-NLP/MED PROJECT/data/med_test.csv', header= None, index= None)"
   ]
  }
 ],
 "metadata": {
  "kernelspec": {
   "display_name": "Python 3",
   "language": "python",
   "name": "python3"
  },
  "language_info": {
   "codemirror_mode": {
    "name": "ipython",
    "version": 3
   },
   "file_extension": ".py",
   "mimetype": "text/x-python",
   "name": "python",
   "nbconvert_exporter": "python",
   "pygments_lexer": "ipython3",
   "version": "3.10.7"
  },
  "orig_nbformat": 4
 },
 "nbformat": 4,
 "nbformat_minor": 2
}
