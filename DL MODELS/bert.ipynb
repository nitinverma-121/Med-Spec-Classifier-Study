{
  "cells": [
    {
      "cell_type": "code",
      "execution_count": 3,
      "metadata": {
        "id": "b7uRNpeUpdSp"
      },
      "outputs": [],
      "source": [
        "import pandas as pd"
      ]
    },
    {
      "cell_type": "code",
      "execution_count": 4,
      "metadata": {
        "colab": {
          "base_uri": "https://localhost:8080/",
          "height": 449
        },
        "id": "Z7_0rNNiprdQ",
        "outputId": "6f3ff3f2-88a8-4452-fdcd-84ef54e1fa77"
      },
      "outputs": [
        {
          "data": {
            "text/html": [
              "\n",
              "  <div id=\"df-53caf1ba-0561-461a-ae31-b132dd82dc7f\" class=\"colab-df-container\">\n",
              "    <div>\n",
              "<style scoped>\n",
              "    .dataframe tbody tr th:only-of-type {\n",
              "        vertical-align: middle;\n",
              "    }\n",
              "\n",
              "    .dataframe tbody tr th {\n",
              "        vertical-align: top;\n",
              "    }\n",
              "\n",
              "    .dataframe thead th {\n",
              "        text-align: right;\n",
              "    }\n",
              "</style>\n",
              "<table border=\"1\" class=\"dataframe\">\n",
              "  <thead>\n",
              "    <tr style=\"text-align: right;\">\n",
              "      <th></th>\n",
              "      <th>Unnamed: 0</th>\n",
              "      <th>medical_specialty</th>\n",
              "      <th>transcription</th>\n",
              "      <th>medical_label</th>\n",
              "      <th>word2vec_embed</th>\n",
              "      <th>fasttext_label</th>\n",
              "    </tr>\n",
              "  </thead>\n",
              "  <tbody>\n",
              "    <tr>\n",
              "      <th>0</th>\n",
              "      <td>3</td>\n",
              "      <td>cardiovascular_pulmonary</td>\n",
              "      <td>d m mode leave atrial enlargement left atrial ...</td>\n",
              "      <td>0</td>\n",
              "      <td>[-3.9130253e-01  1.6925055e+00 -9.7060895e-01 ...</td>\n",
              "      <td>__label__cardiovascular_pulmonary d m mode lea...</td>\n",
              "    </tr>\n",
              "    <tr>\n",
              "      <th>1</th>\n",
              "      <td>4</td>\n",
              "      <td>cardiovascular_pulmonary</td>\n",
              "      <td>left ventricular cavity size wall thickness ap...</td>\n",
              "      <td>0</td>\n",
              "      <td>[-5.44876158e-01  1.30335271e+00 -1.53507555e+...</td>\n",
              "      <td>__label__cardiovascular_pulmonary left ventric...</td>\n",
              "    </tr>\n",
              "    <tr>\n",
              "      <th>2</th>\n",
              "      <td>7</td>\n",
              "      <td>cardiovascular_pulmonary</td>\n",
              "      <td>d echocardiogram multiple view heart great ves...</td>\n",
              "      <td>0</td>\n",
              "      <td>[-0.40531728  0.8317133  -1.0865903   0.296900...</td>\n",
              "      <td>__label__cardiovascular_pulmonary d echocardio...</td>\n",
              "    </tr>\n",
              "    <tr>\n",
              "      <th>3</th>\n",
              "      <td>9</td>\n",
              "      <td>cardiovascular_pulmonary</td>\n",
              "      <td>description normal cardiac chamber size normal...</td>\n",
              "      <td>0</td>\n",
              "      <td>[-0.3478441   0.9546592  -1.0535976   1.201930...</td>\n",
              "      <td>__label__cardiovascular_pulmonary description ...</td>\n",
              "    </tr>\n",
              "    <tr>\n",
              "      <th>4</th>\n",
              "      <td>11</td>\n",
              "      <td>cardiovascular_pulmonary</td>\n",
              "      <td>d study mild aortic stenosis widely calcify mi...</td>\n",
              "      <td>0</td>\n",
              "      <td>[ 0.27329454  1.1477208  -0.88355297  1.073992...</td>\n",
              "      <td>__label__cardiovascular_pulmonary d study mild...</td>\n",
              "    </tr>\n",
              "  </tbody>\n",
              "</table>\n",
              "</div>\n",
              "    <div class=\"colab-df-buttons\">\n",
              "\n",
              "  <div class=\"colab-df-container\">\n",
              "    <button class=\"colab-df-convert\" onclick=\"convertToInteractive('df-53caf1ba-0561-461a-ae31-b132dd82dc7f')\"\n",
              "            title=\"Convert this dataframe to an interactive table.\"\n",
              "            style=\"display:none;\">\n",
              "\n",
              "  <svg xmlns=\"http://www.w3.org/2000/svg\" height=\"24px\" viewBox=\"0 -960 960 960\">\n",
              "    <path d=\"M120-120v-720h720v720H120Zm60-500h600v-160H180v160Zm220 220h160v-160H400v160Zm0 220h160v-160H400v160ZM180-400h160v-160H180v160Zm440 0h160v-160H620v160ZM180-180h160v-160H180v160Zm440 0h160v-160H620v160Z\"/>\n",
              "  </svg>\n",
              "    </button>\n",
              "\n",
              "  <style>\n",
              "    .colab-df-container {\n",
              "      display:flex;\n",
              "      gap: 12px;\n",
              "    }\n",
              "\n",
              "    .colab-df-convert {\n",
              "      background-color: #E8F0FE;\n",
              "      border: none;\n",
              "      border-radius: 50%;\n",
              "      cursor: pointer;\n",
              "      display: none;\n",
              "      fill: #1967D2;\n",
              "      height: 32px;\n",
              "      padding: 0 0 0 0;\n",
              "      width: 32px;\n",
              "    }\n",
              "\n",
              "    .colab-df-convert:hover {\n",
              "      background-color: #E2EBFA;\n",
              "      box-shadow: 0px 1px 2px rgba(60, 64, 67, 0.3), 0px 1px 3px 1px rgba(60, 64, 67, 0.15);\n",
              "      fill: #174EA6;\n",
              "    }\n",
              "\n",
              "    .colab-df-buttons div {\n",
              "      margin-bottom: 4px;\n",
              "    }\n",
              "\n",
              "    [theme=dark] .colab-df-convert {\n",
              "      background-color: #3B4455;\n",
              "      fill: #D2E3FC;\n",
              "    }\n",
              "\n",
              "    [theme=dark] .colab-df-convert:hover {\n",
              "      background-color: #434B5C;\n",
              "      box-shadow: 0px 1px 3px 1px rgba(0, 0, 0, 0.15);\n",
              "      filter: drop-shadow(0px 1px 2px rgba(0, 0, 0, 0.3));\n",
              "      fill: #FFFFFF;\n",
              "    }\n",
              "  </style>\n",
              "\n",
              "    <script>\n",
              "      const buttonEl =\n",
              "        document.querySelector('#df-53caf1ba-0561-461a-ae31-b132dd82dc7f button.colab-df-convert');\n",
              "      buttonEl.style.display =\n",
              "        google.colab.kernel.accessAllowed ? 'block' : 'none';\n",
              "\n",
              "      async function convertToInteractive(key) {\n",
              "        const element = document.querySelector('#df-53caf1ba-0561-461a-ae31-b132dd82dc7f');\n",
              "        const dataTable =\n",
              "          await google.colab.kernel.invokeFunction('convertToInteractive',\n",
              "                                                    [key], {});\n",
              "        if (!dataTable) return;\n",
              "\n",
              "        const docLinkHtml = 'Like what you see? Visit the ' +\n",
              "          '<a target=\"_blank\" href=https://colab.research.google.com/notebooks/data_table.ipynb>data table notebook</a>'\n",
              "          + ' to learn more about interactive tables.';\n",
              "        element.innerHTML = '';\n",
              "        dataTable['output_type'] = 'display_data';\n",
              "        await google.colab.output.renderOutput(dataTable, element);\n",
              "        const docLink = document.createElement('div');\n",
              "        docLink.innerHTML = docLinkHtml;\n",
              "        element.appendChild(docLink);\n",
              "      }\n",
              "    </script>\n",
              "  </div>\n",
              "\n",
              "\n",
              "<div id=\"df-3465108d-2260-49af-9ce4-4f06d91dd52c\">\n",
              "  <button class=\"colab-df-quickchart\" onclick=\"quickchart('df-3465108d-2260-49af-9ce4-4f06d91dd52c')\"\n",
              "            title=\"Suggest charts.\"\n",
              "            style=\"display:none;\">\n",
              "\n",
              "<svg xmlns=\"http://www.w3.org/2000/svg\" height=\"24px\"viewBox=\"0 0 24 24\"\n",
              "     width=\"24px\">\n",
              "    <g>\n",
              "        <path d=\"M19 3H5c-1.1 0-2 .9-2 2v14c0 1.1.9 2 2 2h14c1.1 0 2-.9 2-2V5c0-1.1-.9-2-2-2zM9 17H7v-7h2v7zm4 0h-2V7h2v10zm4 0h-2v-4h2v4z\"/>\n",
              "    </g>\n",
              "</svg>\n",
              "  </button>\n",
              "\n",
              "<style>\n",
              "  .colab-df-quickchart {\n",
              "    background-color: #E8F0FE;\n",
              "    border: none;\n",
              "    border-radius: 50%;\n",
              "    cursor: pointer;\n",
              "    display: none;\n",
              "    fill: #1967D2;\n",
              "    height: 32px;\n",
              "    padding: 0 0 0 0;\n",
              "    width: 32px;\n",
              "  }\n",
              "\n",
              "  .colab-df-quickchart:hover {\n",
              "    background-color: #E2EBFA;\n",
              "    box-shadow: 0px 1px 2px rgba(60, 64, 67, 0.3), 0px 1px 3px 1px rgba(60, 64, 67, 0.15);\n",
              "    fill: #174EA6;\n",
              "  }\n",
              "\n",
              "  [theme=dark] .colab-df-quickchart {\n",
              "    background-color: #3B4455;\n",
              "    fill: #D2E3FC;\n",
              "  }\n",
              "\n",
              "  [theme=dark] .colab-df-quickchart:hover {\n",
              "    background-color: #434B5C;\n",
              "    box-shadow: 0px 1px 3px 1px rgba(0, 0, 0, 0.15);\n",
              "    filter: drop-shadow(0px 1px 2px rgba(0, 0, 0, 0.3));\n",
              "    fill: #FFFFFF;\n",
              "  }\n",
              "</style>\n",
              "\n",
              "  <script>\n",
              "    async function quickchart(key) {\n",
              "      const charts = await google.colab.kernel.invokeFunction(\n",
              "          'suggestCharts', [key], {});\n",
              "    }\n",
              "    (() => {\n",
              "      let quickchartButtonEl =\n",
              "        document.querySelector('#df-3465108d-2260-49af-9ce4-4f06d91dd52c button');\n",
              "      quickchartButtonEl.style.display =\n",
              "        google.colab.kernel.accessAllowed ? 'block' : 'none';\n",
              "    })();\n",
              "  </script>\n",
              "</div>\n",
              "    </div>\n",
              "  </div>\n"
            ],
            "text/plain": [
              "   Unnamed: 0         medical_specialty  \\\n",
              "0           3  cardiovascular_pulmonary   \n",
              "1           4  cardiovascular_pulmonary   \n",
              "2           7  cardiovascular_pulmonary   \n",
              "3           9  cardiovascular_pulmonary   \n",
              "4          11  cardiovascular_pulmonary   \n",
              "\n",
              "                                       transcription  medical_label  \\\n",
              "0  d m mode leave atrial enlargement left atrial ...              0   \n",
              "1  left ventricular cavity size wall thickness ap...              0   \n",
              "2  d echocardiogram multiple view heart great ves...              0   \n",
              "3  description normal cardiac chamber size normal...              0   \n",
              "4  d study mild aortic stenosis widely calcify mi...              0   \n",
              "\n",
              "                                      word2vec_embed  \\\n",
              "0  [-3.9130253e-01  1.6925055e+00 -9.7060895e-01 ...   \n",
              "1  [-5.44876158e-01  1.30335271e+00 -1.53507555e+...   \n",
              "2  [-0.40531728  0.8317133  -1.0865903   0.296900...   \n",
              "3  [-0.3478441   0.9546592  -1.0535976   1.201930...   \n",
              "4  [ 0.27329454  1.1477208  -0.88355297  1.073992...   \n",
              "\n",
              "                                      fasttext_label  \n",
              "0  __label__cardiovascular_pulmonary d m mode lea...  \n",
              "1  __label__cardiovascular_pulmonary left ventric...  \n",
              "2  __label__cardiovascular_pulmonary d echocardio...  \n",
              "3  __label__cardiovascular_pulmonary description ...  \n",
              "4  __label__cardiovascular_pulmonary d study mild...  "
            ]
          },
          "execution_count": 4,
          "metadata": {},
          "output_type": "execute_result"
        }
      ],
      "source": [
        "data= pd.read_csv('medical_new.csv') #mention the right medical_new path \n",
        "data.head()"
      ]
    },
    {
      "cell_type": "code",
      "execution_count": null,
      "metadata": {
        "id": "QH66HXQNqvXL"
      },
      "outputs": [],
      "source": [
        "pip install tensorflow_text"
      ]
    },
    {
      "cell_type": "code",
      "execution_count": 6,
      "metadata": {
        "id": "dU2NK-PQqU9b"
      },
      "outputs": [],
      "source": [
        "import tensorflow as tf\n",
        "import tensorflow_hub as hub\n",
        "import tensorflow_text as text"
      ]
    },
    {
      "cell_type": "code",
      "execution_count": 7,
      "metadata": {
        "id": "Ft-ybVMlrjxk"
      },
      "outputs": [],
      "source": [
        "from tensorflow import keras"
      ]
    },
    {
      "cell_type": "code",
      "execution_count": 8,
      "metadata": {
        "id": "wvtV93Q7rn2k"
      },
      "outputs": [],
      "source": [
        "#bert layers\n",
        "encoder_url= \"https://tfhub.dev/tensorflow/bert_en_uncased_L-12_H-768_A-12/4\"\n",
        "preprocess_url= \"https://tfhub.dev/tensorflow/bert_en_uncased_preprocess/3\""
      ]
    },
    {
      "cell_type": "code",
      "execution_count": 36,
      "metadata": {
        "id": "OVkmhVSPsp7a"
      },
      "outputs": [],
      "source": [
        "bert_preprocess= hub.KerasLayer(preprocess_url)\n",
        "bert_encoder= hub.KerasLayer(encoder_url)"
      ]
    },
    {
      "cell_type": "code",
      "execution_count": 51,
      "metadata": {
        "id": "GubBGmqv0Nlt"
      },
      "outputs": [],
      "source": [
        "# input layer -> bert preprocess -> bert encoder\n",
        "text_input= keras.layers.Input(shape= (), dtype= tf.string, name= \"text\")\n",
        "preprocess_text= bert_preprocess(text_input)\n",
        "output= bert_encoder(preprocess_text)"
      ]
    },
    {
      "cell_type": "code",
      "execution_count": 52,
      "metadata": {
        "id": "rBrGGr2j2v6-"
      },
      "outputs": [],
      "source": [
        "#neural network\n",
        "\n",
        "hidden_layer1 = keras.layers.Dense(128, activation='relu')(output['pooled_output'])\n",
        "hidden_layer2 = keras.layers.Dense(64, activation='relu')(hidden_layer1)\n",
        "dropout_layer = keras.layers.Dropout(0.1)(hidden_layer2)\n",
        "output_layer = keras.layers.Dense(5, activation='sigmoid', name='ans')(dropout_layer)\n"
      ]
    },
    {
      "cell_type": "code",
      "execution_count": 53,
      "metadata": {
        "id": "zWfzWJ8j341Q"
      },
      "outputs": [],
      "source": [
        "#final model\n",
        "model= keras.Model(inputs= [text_input], outputs= [output_layer])"
      ]
    },
    {
      "cell_type": "code",
      "execution_count": 54,
      "metadata": {
        "colab": {
          "base_uri": "https://localhost:8080/"
        },
        "id": "npVm5oUH4SXp",
        "outputId": "854311ed-a44f-429a-b7e4-599da8316142"
      },
      "outputs": [
        {
          "name": "stdout",
          "output_type": "stream",
          "text": [
            "Model: \"model_3\"\n",
            "__________________________________________________________________________________________________\n",
            " Layer (type)                Output Shape                 Param #   Connected to                  \n",
            "==================================================================================================\n",
            " text (InputLayer)           [(None,)]                    0         []                            \n",
            "                                                                                                  \n",
            " keras_layer_2 (KerasLayer)  {'input_word_ids': (None,    0         ['text[0][0]']                \n",
            "                             128),                                                                \n",
            "                              'input_type_ids': (None,                                            \n",
            "                             128),                                                                \n",
            "                              'input_mask': (None, 128)                                           \n",
            "                             }                                                                    \n",
            "                                                                                                  \n",
            " keras_layer_3 (KerasLayer)  {'pooled_output': (None, 7   1094822   ['keras_layer_2[1][0]',       \n",
            "                             68),                         41         'keras_layer_2[1][1]',       \n",
            "                              'encoder_outputs': [(None              'keras_layer_2[1][2]']       \n",
            "                             , 128, 768),                                                         \n",
            "                              (None, 128, 768),                                                   \n",
            "                              (None, 128, 768),                                                   \n",
            "                              (None, 128, 768),                                                   \n",
            "                              (None, 128, 768),                                                   \n",
            "                              (None, 128, 768),                                                   \n",
            "                              (None, 128, 768),                                                   \n",
            "                              (None, 128, 768),                                                   \n",
            "                              (None, 128, 768),                                                   \n",
            "                              (None, 128, 768),                                                   \n",
            "                              (None, 128, 768),                                                   \n",
            "                              (None, 128, 768)],                                                  \n",
            "                              'default': (None, 768),                                             \n",
            "                              'sequence_output': (None,                                           \n",
            "                              128, 768)}                                                          \n",
            "                                                                                                  \n",
            " dense_6 (Dense)             (None, 128)                  98432     ['keras_layer_3[1][13]']      \n",
            "                                                                                                  \n",
            " dense_7 (Dense)             (None, 64)                   8256      ['dense_6[0][0]']             \n",
            "                                                                                                  \n",
            " dropout_3 (Dropout)         (None, 64)                   0         ['dense_7[0][0]']             \n",
            "                                                                                                  \n",
            " ans (Dense)                 (None, 5)                    325       ['dropout_3[0][0]']           \n",
            "                                                                                                  \n",
            "==================================================================================================\n",
            "Total params: 109589254 (418.05 MB)\n",
            "Trainable params: 107013 (418.02 KB)\n",
            "Non-trainable params: 109482241 (417.64 MB)\n",
            "__________________________________________________________________________________________________\n"
          ]
        }
      ],
      "source": [
        "model.summary()"
      ]
    },
    {
      "cell_type": "code",
      "execution_count": 55,
      "metadata": {
        "id": "avCO27i0-_bi"
      },
      "outputs": [],
      "source": [
        "model.compile(\n",
        "    optimizer= 'adam',\n",
        "    loss='sparse_categorical_crossentropy',\n",
        "    metrics= ['accuracy']\n",
        ")"
      ]
    },
    {
      "cell_type": "code",
      "execution_count": 56,
      "metadata": {
        "id": "CLFyz_sJ_UeN"
      },
      "outputs": [],
      "source": [
        "from sklearn.model_selection import train_test_split"
      ]
    },
    {
      "cell_type": "code",
      "execution_count": 57,
      "metadata": {
        "id": "2bLQTpIF_jo6"
      },
      "outputs": [],
      "source": [
        "x_train, x_test, y_train, y_test= train_test_split(data['transcription'], data['medical_label'], test_size= 0.2, stratify= data['medical_label'], random_state= 5354)"
      ]
    },
    {
      "cell_type": "code",
      "execution_count": 58,
      "metadata": {
        "colab": {
          "base_uri": "https://localhost:8080/"
        },
        "id": "gs-XWEno_-zP",
        "outputId": "19c5558b-98ee-4cd1-93db-1db4080badcb"
      },
      "outputs": [
        {
          "name": "stdout",
          "output_type": "stream",
          "text": [
            "Epoch 1/50\n",
            "120/120 [==============================] - 18s 96ms/step - loss: 1.6189 - accuracy: 0.2132\n",
            "Epoch 2/50\n",
            "120/120 [==============================] - 12s 96ms/step - loss: 1.5774 - accuracy: 0.2727\n",
            "Epoch 3/50\n",
            "120/120 [==============================] - 12s 100ms/step - loss: 1.5538 - accuracy: 0.3020\n",
            "Epoch 4/50\n",
            "120/120 [==============================] - 12s 100ms/step - loss: 1.5018 - accuracy: 0.3260\n",
            "Epoch 5/50\n",
            "120/120 [==============================] - 12s 101ms/step - loss: 1.4629 - accuracy: 0.3406\n",
            "Epoch 6/50\n",
            "120/120 [==============================] - 13s 104ms/step - loss: 1.4466 - accuracy: 0.3595\n",
            "Epoch 7/50\n",
            "120/120 [==============================] - 12s 103ms/step - loss: 1.3912 - accuracy: 0.3908\n",
            "Epoch 8/50\n",
            "120/120 [==============================] - 12s 103ms/step - loss: 1.3807 - accuracy: 0.3971\n",
            "Epoch 9/50\n",
            "120/120 [==============================] - 12s 100ms/step - loss: 1.3327 - accuracy: 0.4033\n",
            "Epoch 10/50\n",
            "120/120 [==============================] - 12s 96ms/step - loss: 1.3246 - accuracy: 0.4169\n",
            "Epoch 11/50\n",
            "120/120 [==============================] - 12s 101ms/step - loss: 1.2726 - accuracy: 0.4535\n",
            "Epoch 12/50\n",
            "120/120 [==============================] - 12s 101ms/step - loss: 1.2256 - accuracy: 0.4650\n",
            "Epoch 13/50\n",
            "120/120 [==============================] - 12s 102ms/step - loss: 1.1831 - accuracy: 0.5110\n",
            "Epoch 14/50\n",
            "120/120 [==============================] - 12s 99ms/step - loss: 1.1455 - accuracy: 0.5099\n",
            "Epoch 15/50\n",
            "120/120 [==============================] - 12s 100ms/step - loss: 1.1531 - accuracy: 0.5037\n",
            "Epoch 16/50\n",
            "120/120 [==============================] - 12s 103ms/step - loss: 1.0853 - accuracy: 0.5402\n",
            "Epoch 17/50\n",
            "120/120 [==============================] - 12s 102ms/step - loss: 1.0505 - accuracy: 0.5517\n",
            "Epoch 18/50\n",
            "120/120 [==============================] - 12s 101ms/step - loss: 1.0677 - accuracy: 0.5298\n",
            "Epoch 19/50\n",
            "120/120 [==============================] - 12s 98ms/step - loss: 1.0274 - accuracy: 0.5632\n",
            "Epoch 20/50\n",
            "120/120 [==============================] - 12s 99ms/step - loss: 1.0105 - accuracy: 0.5611\n",
            "Epoch 21/50\n",
            "120/120 [==============================] - 13s 105ms/step - loss: 1.0348 - accuracy: 0.5726\n",
            "Epoch 22/50\n",
            "120/120 [==============================] - 12s 104ms/step - loss: 0.9957 - accuracy: 0.5820\n",
            "Epoch 23/50\n",
            "120/120 [==============================] - 12s 101ms/step - loss: 0.9889 - accuracy: 0.5862\n",
            "Epoch 24/50\n",
            "120/120 [==============================] - 12s 99ms/step - loss: 0.9553 - accuracy: 0.6092\n",
            "Epoch 25/50\n",
            "120/120 [==============================] - 12s 99ms/step - loss: 0.9772 - accuracy: 0.5789\n",
            "Epoch 26/50\n",
            "120/120 [==============================] - 12s 102ms/step - loss: 0.9536 - accuracy: 0.6092\n",
            "Epoch 27/50\n",
            "120/120 [==============================] - 12s 101ms/step - loss: 0.9571 - accuracy: 0.5799\n",
            "Epoch 28/50\n",
            "120/120 [==============================] - 12s 101ms/step - loss: 0.9223 - accuracy: 0.5987\n",
            "Epoch 29/50\n",
            "120/120 [==============================] - 12s 98ms/step - loss: 0.8938 - accuracy: 0.6123\n",
            "Epoch 30/50\n",
            "120/120 [==============================] - 12s 99ms/step - loss: 0.9061 - accuracy: 0.6134\n",
            "Epoch 31/50\n",
            "120/120 [==============================] - 12s 102ms/step - loss: 0.8796 - accuracy: 0.6217\n",
            "Epoch 32/50\n",
            "120/120 [==============================] - 12s 102ms/step - loss: 0.8763 - accuracy: 0.6364\n",
            "Epoch 33/50\n",
            "120/120 [==============================] - 12s 102ms/step - loss: 0.9354 - accuracy: 0.5967\n",
            "Epoch 34/50\n",
            "120/120 [==============================] - 12s 99ms/step - loss: 0.8804 - accuracy: 0.6196\n",
            "Epoch 35/50\n",
            "120/120 [==============================] - 12s 99ms/step - loss: 0.8677 - accuracy: 0.6280\n",
            "Epoch 36/50\n",
            "120/120 [==============================] - 12s 101ms/step - loss: 0.8978 - accuracy: 0.6207\n",
            "Epoch 37/50\n",
            "120/120 [==============================] - 13s 105ms/step - loss: 0.8530 - accuracy: 0.6332\n",
            "Epoch 38/50\n",
            "120/120 [==============================] - 12s 102ms/step - loss: 0.8751 - accuracy: 0.6343\n",
            "Epoch 39/50\n",
            "120/120 [==============================] - 12s 99ms/step - loss: 0.8346 - accuracy: 0.6353\n",
            "Epoch 40/50\n",
            "120/120 [==============================] - 12s 98ms/step - loss: 0.8143 - accuracy: 0.6499\n",
            "Epoch 41/50\n",
            "120/120 [==============================] - 12s 100ms/step - loss: 0.8409 - accuracy: 0.6510\n",
            "Epoch 42/50\n",
            "120/120 [==============================] - 12s 101ms/step - loss: 0.8553 - accuracy: 0.6322\n",
            "Epoch 43/50\n",
            "120/120 [==============================] - 12s 101ms/step - loss: 0.8554 - accuracy: 0.6270\n",
            "Epoch 44/50\n",
            "120/120 [==============================] - 12s 99ms/step - loss: 0.8221 - accuracy: 0.6395\n",
            "Epoch 45/50\n",
            "120/120 [==============================] - 12s 99ms/step - loss: 0.8294 - accuracy: 0.6343\n",
            "Epoch 46/50\n",
            "120/120 [==============================] - 12s 101ms/step - loss: 0.8114 - accuracy: 0.6677\n",
            "Epoch 47/50\n",
            "120/120 [==============================] - 12s 102ms/step - loss: 0.7903 - accuracy: 0.6635\n",
            "Epoch 48/50\n",
            "120/120 [==============================] - 12s 101ms/step - loss: 0.8182 - accuracy: 0.6447\n",
            "Epoch 49/50\n",
            "120/120 [==============================] - 12s 99ms/step - loss: 0.7852 - accuracy: 0.6510\n",
            "Epoch 50/50\n",
            "120/120 [==============================] - 12s 98ms/step - loss: 0.7630 - accuracy: 0.6750\n"
          ]
        },
        {
          "data": {
            "text/plain": [
              "<keras.src.callbacks.History at 0x7b11eca600d0>"
            ]
          },
          "execution_count": 58,
          "metadata": {},
          "output_type": "execute_result"
        }
      ],
      "source": [
        "model.fit(x_train, y_train, epochs= 50, batch_size= 8)"
      ]
    },
    {
      "cell_type": "code",
      "execution_count": 59,
      "metadata": {
        "colab": {
          "base_uri": "https://localhost:8080/"
        },
        "id": "BZejk2cLAtvE",
        "outputId": "89c3248a-74a5-4a95-e201-f2303b7ba631"
      },
      "outputs": [
        {
          "name": "stdout",
          "output_type": "stream",
          "text": [
            "8/8 [==============================] - 4s 371ms/step - loss: 0.8778 - accuracy: 0.6375\n"
          ]
        },
        {
          "data": {
            "text/plain": [
              "[0.8777868747711182, 0.637499988079071]"
            ]
          },
          "execution_count": 59,
          "metadata": {},
          "output_type": "execute_result"
        }
      ],
      "source": [
        "model.evaluate(x_test, y_test)"
      ]
    },
    {
      "cell_type": "code",
      "execution_count": 60,
      "metadata": {
        "colab": {
          "base_uri": "https://localhost:8080/"
        },
        "id": "uXo46XSAGR6E",
        "outputId": "99d53317-1962-4f50-f280-17d5f57e97fa"
      },
      "outputs": [
        {
          "name": "stdout",
          "output_type": "stream",
          "text": [
            "1/1 [==============================] - 4s 4s/step\n"
          ]
        }
      ],
      "source": [
        "a= model.predict([\"The intricate interplay of the cardiovascular and pulmonary systems orchestrates the rhythm of life itself. The heart's ceaseless pump propels oxygen-rich blood through a vast network of vessels, sustaining every cell. Meanwhile, the lungs breathe life into this blood, exchanging life-sustaining oxygen for carbon dioxide waste. This delicate dance of oxygenation and circulation fuels our vitality, and the fields of cardiovascular and pulmonary medicine are dedicated to preserving this intricate balance. From preventing heart disease to diagnosing respiratory disorders, these disciplines hold the keys to sustaining a life of vigor and wellness\"])"
      ]
    },
    {
      "cell_type": "code",
      "execution_count": 61,
      "metadata": {
        "colab": {
          "base_uri": "https://localhost:8080/"
        },
        "id": "D8GEw7CLQqkV",
        "outputId": "355ffd3e-2058-4a52-b4a6-52bc9606be3e"
      },
      "outputs": [
        {
          "data": {
            "text/plain": [
              "0.9697437"
            ]
          },
          "execution_count": 61,
          "metadata": {},
          "output_type": "execute_result"
        }
      ],
      "source": [
        "a[0][0]"
      ]
    },
    {
      "cell_type": "code",
      "execution_count": 62,
      "metadata": {
        "colab": {
          "base_uri": "https://localhost:8080/"
        },
        "id": "s-oJhq6CGuV4",
        "outputId": "7600d71d-6d26-417c-ecfa-40bb8c4b3362"
      },
      "outputs": [
        {
          "name": "stdout",
          "output_type": "stream",
          "text": [
            "8/8 [==============================] - 4s 432ms/step\n"
          ]
        }
      ],
      "source": [
        "y_pred= model.predict(x_test)"
      ]
    },
    {
      "cell_type": "code",
      "execution_count": 64,
      "metadata": {
        "id": "t4kswLbfHXui"
      },
      "outputs": [],
      "source": [
        "import numpy as np\n",
        "y_pred_lab= [np.argmax(i) for i in y_pred]"
      ]
    },
    {
      "cell_type": "code",
      "execution_count": 65,
      "metadata": {
        "colab": {
          "base_uri": "https://localhost:8080/"
        },
        "id": "S56P5ImyHefY",
        "outputId": "7add4c60-057c-4f7b-8791-c05f87d2ac09"
      },
      "outputs": [
        {
          "name": "stdout",
          "output_type": "stream",
          "text": [
            "              precision    recall  f1-score   support\n",
            "\n",
            "           0       0.71      0.73      0.72        56\n",
            "           1       0.72      0.74      0.73        39\n",
            "           2       0.53      0.26      0.35        34\n",
            "           3       0.69      0.82      0.75        61\n",
            "           4       0.45      0.48      0.47        50\n",
            "\n",
            "    accuracy                           0.64       240\n",
            "   macro avg       0.62      0.61      0.60       240\n",
            "weighted avg       0.63      0.64      0.63       240\n",
            "\n"
          ]
        }
      ],
      "source": [
        "from sklearn.metrics import classification_report\n",
        "print(classification_report(y_test, y_pred_lab))"
      ]
    }
  ],
  "metadata": {
    "accelerator": "GPU",
    "colab": {
      "gpuType": "T4",
      "provenance": []
    },
    "kernelspec": {
      "display_name": "Python 3",
      "name": "python3"
    },
    "language_info": {
      "name": "python"
    }
  },
  "nbformat": 4,
  "nbformat_minor": 0
}
