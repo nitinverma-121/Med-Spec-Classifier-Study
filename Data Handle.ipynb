{
 "cells": [
  {
   "cell_type": "code",
   "execution_count": 1,
   "metadata": {},
   "outputs": [],
   "source": [
    "import pandas as pd\n",
    "import re\n",
    "from sklearn.preprocessing import LabelEncoder\n",
    "import spacy"
   ]
  },
  {
   "cell_type": "code",
   "execution_count": 2,
   "metadata": {},
   "outputs": [
    {
     "data": {
      "text/html": [
       "<div>\n",
       "<style scoped>\n",
       "    .dataframe tbody tr th:only-of-type {\n",
       "        vertical-align: middle;\n",
       "    }\n",
       "\n",
       "    .dataframe tbody tr th {\n",
       "        vertical-align: top;\n",
       "    }\n",
       "\n",
       "    .dataframe thead th {\n",
       "        text-align: right;\n",
       "    }\n",
       "</style>\n",
       "<table border=\"1\" class=\"dataframe\">\n",
       "  <thead>\n",
       "    <tr style=\"text-align: right;\">\n",
       "      <th></th>\n",
       "      <th>id</th>\n",
       "      <th>description</th>\n",
       "      <th>medical_specialty</th>\n",
       "      <th>sample_name</th>\n",
       "      <th>transcription</th>\n",
       "      <th>keywords</th>\n",
       "    </tr>\n",
       "  </thead>\n",
       "  <tbody>\n",
       "    <tr>\n",
       "      <th>0</th>\n",
       "      <td>0</td>\n",
       "      <td>A 23-year-old white female presents with comp...</td>\n",
       "      <td>Allergy / Immunology</td>\n",
       "      <td>Allergic Rhinitis</td>\n",
       "      <td>SUBJECTIVE:,  This 23-year-old white female pr...</td>\n",
       "      <td>allergy / immunology, allergic rhinitis, aller...</td>\n",
       "    </tr>\n",
       "    <tr>\n",
       "      <th>1</th>\n",
       "      <td>1</td>\n",
       "      <td>Consult for laparoscopic gastric bypass.</td>\n",
       "      <td>Bariatrics</td>\n",
       "      <td>Laparoscopic Gastric Bypass Consult - 2</td>\n",
       "      <td>PAST MEDICAL HISTORY:, He has difficulty climb...</td>\n",
       "      <td>bariatrics, laparoscopic gastric bypass, weigh...</td>\n",
       "    </tr>\n",
       "    <tr>\n",
       "      <th>2</th>\n",
       "      <td>2</td>\n",
       "      <td>Consult for laparoscopic gastric bypass.</td>\n",
       "      <td>Bariatrics</td>\n",
       "      <td>Laparoscopic Gastric Bypass Consult - 1</td>\n",
       "      <td>HISTORY OF PRESENT ILLNESS: , I have seen ABC ...</td>\n",
       "      <td>bariatrics, laparoscopic gastric bypass, heart...</td>\n",
       "    </tr>\n",
       "    <tr>\n",
       "      <th>3</th>\n",
       "      <td>3</td>\n",
       "      <td>2-D M-Mode. Doppler.</td>\n",
       "      <td>Cardiovascular / Pulmonary</td>\n",
       "      <td>2-D Echocardiogram - 1</td>\n",
       "      <td>2-D M-MODE: , ,1.  Left atrial enlargement wit...</td>\n",
       "      <td>cardiovascular / pulmonary, 2-d m-mode, dopple...</td>\n",
       "    </tr>\n",
       "    <tr>\n",
       "      <th>4</th>\n",
       "      <td>4</td>\n",
       "      <td>2-D Echocardiogram</td>\n",
       "      <td>Cardiovascular / Pulmonary</td>\n",
       "      <td>2-D Echocardiogram - 2</td>\n",
       "      <td>1.  The left ventricular cavity size and wall ...</td>\n",
       "      <td>cardiovascular / pulmonary, 2-d, doppler, echo...</td>\n",
       "    </tr>\n",
       "  </tbody>\n",
       "</table>\n",
       "</div>"
      ],
      "text/plain": [
       "   id                                        description  \\\n",
       "0   0   A 23-year-old white female presents with comp...   \n",
       "1   1           Consult for laparoscopic gastric bypass.   \n",
       "2   2           Consult for laparoscopic gastric bypass.   \n",
       "3   3                             2-D M-Mode. Doppler.     \n",
       "4   4                                 2-D Echocardiogram   \n",
       "\n",
       "             medical_specialty                                sample_name  \\\n",
       "0         Allergy / Immunology                         Allergic Rhinitis    \n",
       "1                   Bariatrics   Laparoscopic Gastric Bypass Consult - 2    \n",
       "2                   Bariatrics   Laparoscopic Gastric Bypass Consult - 1    \n",
       "3   Cardiovascular / Pulmonary                    2-D Echocardiogram - 1    \n",
       "4   Cardiovascular / Pulmonary                    2-D Echocardiogram - 2    \n",
       "\n",
       "                                       transcription  \\\n",
       "0  SUBJECTIVE:,  This 23-year-old white female pr...   \n",
       "1  PAST MEDICAL HISTORY:, He has difficulty climb...   \n",
       "2  HISTORY OF PRESENT ILLNESS: , I have seen ABC ...   \n",
       "3  2-D M-MODE: , ,1.  Left atrial enlargement wit...   \n",
       "4  1.  The left ventricular cavity size and wall ...   \n",
       "\n",
       "                                            keywords  \n",
       "0  allergy / immunology, allergic rhinitis, aller...  \n",
       "1  bariatrics, laparoscopic gastric bypass, weigh...  \n",
       "2  bariatrics, laparoscopic gastric bypass, heart...  \n",
       "3  cardiovascular / pulmonary, 2-d m-mode, dopple...  \n",
       "4  cardiovascular / pulmonary, 2-d, doppler, echo...  "
      ]
     },
     "execution_count": 2,
     "metadata": {},
     "output_type": "execute_result"
    }
   ],
   "source": [
    "#loading the dataset\n",
    "data= pd.read_csv('data/mtsamples.csv')\n",
    "data.head()"
   ]
  },
  {
   "cell_type": "markdown",
   "metadata": {},
   "source": [
    "## DATA CLEANING"
   ]
  },
  {
   "cell_type": "code",
   "execution_count": 3,
   "metadata": {},
   "outputs": [
    {
     "data": {
      "text/plain": [
       "id                      0\n",
       "description             0\n",
       "medical_specialty       0\n",
       "sample_name             0\n",
       "transcription          33\n",
       "keywords             1068\n",
       "dtype: int64"
      ]
     },
     "execution_count": 3,
     "metadata": {},
     "output_type": "execute_result"
    }
   ],
   "source": [
    "data.isnull().sum()"
   ]
  },
  {
   "cell_type": "code",
   "execution_count": 4,
   "metadata": {},
   "outputs": [],
   "source": [
    "data= data.dropna()"
   ]
  },
  {
   "cell_type": "code",
   "execution_count": 5,
   "metadata": {},
   "outputs": [
    {
     "data": {
      "text/plain": [
       "id                   0\n",
       "description          0\n",
       "medical_specialty    0\n",
       "sample_name          0\n",
       "transcription        0\n",
       "keywords             0\n",
       "dtype: int64"
      ]
     },
     "execution_count": 5,
     "metadata": {},
     "output_type": "execute_result"
    }
   ],
   "source": [
    "data.isnull().sum()"
   ]
  },
  {
   "cell_type": "code",
   "execution_count": 6,
   "metadata": {},
   "outputs": [
    {
     "data": {
      "text/plain": [
       " Surgery                          1021\n",
       " Orthopedic                        303\n",
       " Cardiovascular / Pulmonary        280\n",
       " Radiology                         251\n",
       " Consult - History and Phy.        234\n",
       " Gastroenterology                  195\n",
       " Neurology                         168\n",
       " General Medicine                  146\n",
       " SOAP / Chart / Progress Notes     142\n",
       " Urology                           140\n",
       " Obstetrics / Gynecology           130\n",
       " ENT - Otolaryngology               84\n",
       " Neurosurgery                       81\n",
       " Ophthalmology                      79\n",
       " Discharge Summary                  77\n",
       " Nephrology                         63\n",
       " Hematology - Oncology              62\n",
       " Pain Management                    58\n",
       " Office Notes                       44\n",
       " Pediatrics - Neonatal              42\n",
       " Podiatry                           42\n",
       " Emergency Room Reports             31\n",
       " Dermatology                        25\n",
       " Dentistry                          25\n",
       " Cosmetic / Plastic Surgery         25\n",
       " Letters                            20\n",
       " Psychiatry / Psychology            19\n",
       " Sleep Medicine                     18\n",
       " Bariatrics                         18\n",
       " Endocrinology                      15\n",
       " Physical Medicine - Rehab          11\n",
       " Diets and Nutritions               10\n",
       " Speech - Language                   8\n",
       " Lab Medicine - Pathology            8\n",
       " Rheumatology                        7\n",
       " Hospice - Palliative Care           5\n",
       " Chiropractic                        4\n",
       " IME-QME-Work Comp etc.              4\n",
       " Allergy / Immunology                3\n",
       "Name: medical_specialty, dtype: int64"
      ]
     },
     "execution_count": 6,
     "metadata": {},
     "output_type": "execute_result"
    }
   ],
   "source": [
    "data['medical_specialty'].value_counts()"
   ]
  },
  {
   "cell_type": "code",
   "execution_count": 7,
   "metadata": {},
   "outputs": [
    {
     "data": {
      "text/html": [
       "<div>\n",
       "<style scoped>\n",
       "    .dataframe tbody tr th:only-of-type {\n",
       "        vertical-align: middle;\n",
       "    }\n",
       "\n",
       "    .dataframe tbody tr th {\n",
       "        vertical-align: top;\n",
       "    }\n",
       "\n",
       "    .dataframe thead th {\n",
       "        text-align: right;\n",
       "    }\n",
       "</style>\n",
       "<table border=\"1\" class=\"dataframe\">\n",
       "  <thead>\n",
       "    <tr style=\"text-align: right;\">\n",
       "      <th></th>\n",
       "      <th>id</th>\n",
       "      <th>description</th>\n",
       "      <th>medical_specialty</th>\n",
       "      <th>sample_name</th>\n",
       "      <th>transcription</th>\n",
       "      <th>keywords</th>\n",
       "    </tr>\n",
       "  </thead>\n",
       "  <tbody>\n",
       "    <tr>\n",
       "      <th>18</th>\n",
       "      <td>18</td>\n",
       "      <td>Fertile male with completed family.  Elective...</td>\n",
       "      <td>Urology</td>\n",
       "      <td>Vasectomy - 4</td>\n",
       "      <td>PROCEDURE: , Elective male sterilization via b...</td>\n",
       "      <td>urology, sterilization, vas, fertile male, bil...</td>\n",
       "    </tr>\n",
       "    <tr>\n",
       "      <th>20</th>\n",
       "      <td>20</td>\n",
       "      <td>Whole body radionuclide bone scan due to pros...</td>\n",
       "      <td>Urology</td>\n",
       "      <td>Whole Body Radionuclide Bone Scan</td>\n",
       "      <td>INDICATION:,  Prostate Cancer.,TECHNIQUE:,  3....</td>\n",
       "      <td>urology, prostate cancer, technetium, whole bo...</td>\n",
       "    </tr>\n",
       "    <tr>\n",
       "      <th>22</th>\n",
       "      <td>22</td>\n",
       "      <td>Normal vasectomy</td>\n",
       "      <td>Urology</td>\n",
       "      <td>Vasectomy - 1</td>\n",
       "      <td>DESCRIPTION:,  The patient was placed in the s...</td>\n",
       "      <td>urology, vasectomy, allis clamp, catgut, hemoc...</td>\n",
       "    </tr>\n",
       "    <tr>\n",
       "      <th>23</th>\n",
       "      <td>23</td>\n",
       "      <td>Voluntary sterility.  Bilateral vasectomy.  T...</td>\n",
       "      <td>Urology</td>\n",
       "      <td>Vasectomy</td>\n",
       "      <td>PREOPERATIVE DIAGNOSIS: , Voluntary sterility....</td>\n",
       "      <td>urology, hemiscrotum, bilateral vasectomy, vol...</td>\n",
       "    </tr>\n",
       "    <tr>\n",
       "      <th>25</th>\n",
       "      <td>25</td>\n",
       "      <td>Normal vasectomy</td>\n",
       "      <td>Urology</td>\n",
       "      <td>Vasectomy - 2</td>\n",
       "      <td>DIAGNOSIS:,  Desires vasectomy.,NAME OF OPERAT...</td>\n",
       "      <td>urology, scrotal incision, right vas, bleeding...</td>\n",
       "    </tr>\n",
       "  </tbody>\n",
       "</table>\n",
       "</div>"
      ],
      "text/plain": [
       "    id                                        description medical_specialty  \\\n",
       "18  18   Fertile male with completed family.  Elective...           Urology   \n",
       "20  20   Whole body radionuclide bone scan due to pros...           Urology   \n",
       "22  22                                   Normal vasectomy           Urology   \n",
       "23  23   Voluntary sterility.  Bilateral vasectomy.  T...           Urology   \n",
       "25  25                                   Normal vasectomy           Urology   \n",
       "\n",
       "                            sample_name  \\\n",
       "18                       Vasectomy - 4    \n",
       "20   Whole Body Radionuclide Bone Scan    \n",
       "22                       Vasectomy - 1    \n",
       "23                           Vasectomy    \n",
       "25                       Vasectomy - 2    \n",
       "\n",
       "                                        transcription  \\\n",
       "18  PROCEDURE: , Elective male sterilization via b...   \n",
       "20  INDICATION:,  Prostate Cancer.,TECHNIQUE:,  3....   \n",
       "22  DESCRIPTION:,  The patient was placed in the s...   \n",
       "23  PREOPERATIVE DIAGNOSIS: , Voluntary sterility....   \n",
       "25  DIAGNOSIS:,  Desires vasectomy.,NAME OF OPERAT...   \n",
       "\n",
       "                                             keywords  \n",
       "18  urology, sterilization, vas, fertile male, bil...  \n",
       "20  urology, prostate cancer, technetium, whole bo...  \n",
       "22  urology, vasectomy, allis clamp, catgut, hemoc...  \n",
       "23  urology, hemiscrotum, bilateral vasectomy, vol...  \n",
       "25  urology, scrotal incision, right vas, bleeding...  "
      ]
     },
     "execution_count": 7,
     "metadata": {},
     "output_type": "execute_result"
    }
   ],
   "source": [
    "data[data['medical_specialty']== ' Urology'].head() \n",
    "# data is very bad\n",
    "# data has a lot of spaces \n",
    "# \" Urology\""
   ]
  },
  {
   "cell_type": "code",
   "execution_count": 8,
   "metadata": {},
   "outputs": [],
   "source": [
    "data= data.drop(columns= ['id', 'description', 'sample_name', 'keywords'], axis= 'columns')"
   ]
  },
  {
   "cell_type": "code",
   "execution_count": 9,
   "metadata": {},
   "outputs": [
    {
     "data": {
      "text/html": [
       "<div>\n",
       "<style scoped>\n",
       "    .dataframe tbody tr th:only-of-type {\n",
       "        vertical-align: middle;\n",
       "    }\n",
       "\n",
       "    .dataframe tbody tr th {\n",
       "        vertical-align: top;\n",
       "    }\n",
       "\n",
       "    .dataframe thead th {\n",
       "        text-align: right;\n",
       "    }\n",
       "</style>\n",
       "<table border=\"1\" class=\"dataframe\">\n",
       "  <thead>\n",
       "    <tr style=\"text-align: right;\">\n",
       "      <th></th>\n",
       "      <th>medical_specialty</th>\n",
       "      <th>transcription</th>\n",
       "    </tr>\n",
       "  </thead>\n",
       "  <tbody>\n",
       "    <tr>\n",
       "      <th>0</th>\n",
       "      <td>Allergy / Immunology</td>\n",
       "      <td>SUBJECTIVE:,  This 23-year-old white female pr...</td>\n",
       "    </tr>\n",
       "    <tr>\n",
       "      <th>1</th>\n",
       "      <td>Bariatrics</td>\n",
       "      <td>PAST MEDICAL HISTORY:, He has difficulty climb...</td>\n",
       "    </tr>\n",
       "    <tr>\n",
       "      <th>2</th>\n",
       "      <td>Bariatrics</td>\n",
       "      <td>HISTORY OF PRESENT ILLNESS: , I have seen ABC ...</td>\n",
       "    </tr>\n",
       "    <tr>\n",
       "      <th>3</th>\n",
       "      <td>Cardiovascular / Pulmonary</td>\n",
       "      <td>2-D M-MODE: , ,1.  Left atrial enlargement wit...</td>\n",
       "    </tr>\n",
       "    <tr>\n",
       "      <th>4</th>\n",
       "      <td>Cardiovascular / Pulmonary</td>\n",
       "      <td>1.  The left ventricular cavity size and wall ...</td>\n",
       "    </tr>\n",
       "  </tbody>\n",
       "</table>\n",
       "</div>"
      ],
      "text/plain": [
       "             medical_specialty  \\\n",
       "0         Allergy / Immunology   \n",
       "1                   Bariatrics   \n",
       "2                   Bariatrics   \n",
       "3   Cardiovascular / Pulmonary   \n",
       "4   Cardiovascular / Pulmonary   \n",
       "\n",
       "                                       transcription  \n",
       "0  SUBJECTIVE:,  This 23-year-old white female pr...  \n",
       "1  PAST MEDICAL HISTORY:, He has difficulty climb...  \n",
       "2  HISTORY OF PRESENT ILLNESS: , I have seen ABC ...  \n",
       "3  2-D M-MODE: , ,1.  Left atrial enlargement wit...  \n",
       "4  1.  The left ventricular cavity size and wall ...  "
      ]
     },
     "execution_count": 9,
     "metadata": {},
     "output_type": "execute_result"
    }
   ],
   "source": [
    "data.head()"
   ]
  },
  {
   "cell_type": "code",
   "execution_count": 10,
   "metadata": {},
   "outputs": [
    {
     "data": {
      "text/plain": [
       "'SUBJECTIVE:,  This 23-year-old white female presents with complaint of allergies.  She used to have allergies when she lived in Seattle but she thinks they are worse here.  In the past, she has tried Claritin, and Zyrtec.  Both worked for short time but then seemed to lose effectiveness.  She has used Allegra also.  She used that last summer and she began using it again two weeks ago.  It does not appear to be working very well.  She has used over-the-counter sprays but no prescription nasal sprays.  She does have asthma but doest not require daily medication for this and does not think it is flaring up.,MEDICATIONS: , Her only medication currently is Ortho Tri-Cyclen and the Allegra.,ALLERGIES: , She has no known medicine allergies.,OBJECTIVE:,Vitals:  Weight was 130 pounds and blood pressure 124/78.,HEENT:  Her throat was mildly erythematous without exudate.  Nasal mucosa was erythematous and swollen.  Only clear drainage was seen.  TMs were clear.,Neck:  Supple without adenopathy.,Lungs:  Clear.,ASSESSMENT:,  Allergic rhinitis.,PLAN:,1.  She will try Zyrtec instead of Allegra again.  Another option will be to use loratadine.  She does not think she has prescription coverage so that might be cheaper.,2.  Samples of Nasonex two sprays in each nostril given for three weeks.  A prescription was written as well.'"
      ]
     },
     "execution_count": 10,
     "metadata": {},
     "output_type": "execute_result"
    }
   ],
   "source": [
    "f= data['transcription'][0]\n",
    "f"
   ]
  },
  {
   "cell_type": "code",
   "execution_count": 11,
   "metadata": {},
   "outputs": [],
   "source": [
    "#remove spaces and special characters\n",
    "#data cleaning\n",
    "\n",
    "def cleaning(text):\n",
    "    text = re.sub('[^\\w\\s\\']',' ', text)\n",
    "    text= re.sub(' +', ' ', text)\n",
    "    text= re.sub('\\n', ' ', text)\n",
    "    return text.lower().strip()"
   ]
  },
  {
   "cell_type": "code",
   "execution_count": 12,
   "metadata": {},
   "outputs": [],
   "source": [
    "#apply data cleaning on 2 dirty columns\n",
    "data['medical_specialty']= data['medical_specialty'].apply(cleaning)\n",
    "data['transcription']= data['transcription'].apply(cleaning)"
   ]
  },
  {
   "cell_type": "code",
   "execution_count": 13,
   "metadata": {},
   "outputs": [
    {
     "data": {
      "text/html": [
       "<div>\n",
       "<style scoped>\n",
       "    .dataframe tbody tr th:only-of-type {\n",
       "        vertical-align: middle;\n",
       "    }\n",
       "\n",
       "    .dataframe tbody tr th {\n",
       "        vertical-align: top;\n",
       "    }\n",
       "\n",
       "    .dataframe thead th {\n",
       "        text-align: right;\n",
       "    }\n",
       "</style>\n",
       "<table border=\"1\" class=\"dataframe\">\n",
       "  <thead>\n",
       "    <tr style=\"text-align: right;\">\n",
       "      <th></th>\n",
       "      <th>medical_specialty</th>\n",
       "      <th>transcription</th>\n",
       "    </tr>\n",
       "  </thead>\n",
       "  <tbody>\n",
       "    <tr>\n",
       "      <th>0</th>\n",
       "      <td>allergy immunology</td>\n",
       "      <td>subjective this 23 year old white female prese...</td>\n",
       "    </tr>\n",
       "    <tr>\n",
       "      <th>1</th>\n",
       "      <td>bariatrics</td>\n",
       "      <td>past medical history he has difficulty climbin...</td>\n",
       "    </tr>\n",
       "    <tr>\n",
       "      <th>2</th>\n",
       "      <td>bariatrics</td>\n",
       "      <td>history of present illness i have seen abc tod...</td>\n",
       "    </tr>\n",
       "    <tr>\n",
       "      <th>3</th>\n",
       "      <td>cardiovascular pulmonary</td>\n",
       "      <td>2 d m mode 1 left atrial enlargement with left...</td>\n",
       "    </tr>\n",
       "    <tr>\n",
       "      <th>4</th>\n",
       "      <td>cardiovascular pulmonary</td>\n",
       "      <td>1 the left ventricular cavity size and wall th...</td>\n",
       "    </tr>\n",
       "  </tbody>\n",
       "</table>\n",
       "</div>"
      ],
      "text/plain": [
       "          medical_specialty                                      transcription\n",
       "0        allergy immunology  subjective this 23 year old white female prese...\n",
       "1                bariatrics  past medical history he has difficulty climbin...\n",
       "2                bariatrics  history of present illness i have seen abc tod...\n",
       "3  cardiovascular pulmonary  2 d m mode 1 left atrial enlargement with left...\n",
       "4  cardiovascular pulmonary  1 the left ventricular cavity size and wall th..."
      ]
     },
     "execution_count": 13,
     "metadata": {},
     "output_type": "execute_result"
    }
   ],
   "source": [
    "data.head()"
   ]
  },
  {
   "cell_type": "code",
   "execution_count": 14,
   "metadata": {},
   "outputs": [],
   "source": [
    "#choose 5 medical specialty which we will focus upon\n",
    "data= data[data['medical_specialty'].isin({\"orthopedic\", \"cardiovascular pulmonary\", \"radiology\", \"gastroenterology\", \"neurology\"})]"
   ]
  },
  {
   "cell_type": "code",
   "execution_count": 15,
   "metadata": {},
   "outputs": [],
   "source": [
    "data.to_csv('temp.csv')"
   ]
  },
  {
   "cell_type": "code",
   "execution_count": 18,
   "metadata": {},
   "outputs": [
    {
     "data": {
      "text/plain": [
       "orthopedic                  303\n",
       "cardiovascular pulmonary    280\n",
       "radiology                   251\n",
       "gastroenterology            195\n",
       "neurology                   168\n",
       "Name: medical_specialty, dtype: int64"
      ]
     },
     "execution_count": 18,
     "metadata": {},
     "output_type": "execute_result"
    }
   ],
   "source": [
    "data.medical_specialty.value_counts()"
   ]
  },
  {
   "cell_type": "markdown",
   "metadata": {},
   "source": [
    "## DATA PREPROCESSING, PRECOMPUTATION"
   ]
  },
  {
   "cell_type": "code",
   "execution_count": 20,
   "metadata": {},
   "outputs": [],
   "source": [
    "nlp= spacy.load('en_core_web_lg')"
   ]
  },
  {
   "cell_type": "code",
   "execution_count": 23,
   "metadata": {},
   "outputs": [],
   "source": [
    "# Preprocess function remove stop words, punctuations, digits and stop words\n",
    "\n",
    "def preprocess(text):\n",
    "    doc= nlp(text)\n",
    "    filter= []\n",
    "    for token in doc:\n",
    "        if not token.is_stop and not token.is_punct and not token.is_digit:\n",
    "            filter.append(token.lemma_)\n",
    "    return ' '.join(filter)        "
   ]
  },
  {
   "cell_type": "code",
   "execution_count": 24,
   "metadata": {},
   "outputs": [],
   "source": [
    "data['transcription']= data['transcription'].apply(preprocess)"
   ]
  },
  {
   "cell_type": "code",
   "execution_count": 27,
   "metadata": {},
   "outputs": [
    {
     "data": {
      "text/html": [
       "<div>\n",
       "<style scoped>\n",
       "    .dataframe tbody tr th:only-of-type {\n",
       "        vertical-align: middle;\n",
       "    }\n",
       "\n",
       "    .dataframe tbody tr th {\n",
       "        vertical-align: top;\n",
       "    }\n",
       "\n",
       "    .dataframe thead th {\n",
       "        text-align: right;\n",
       "    }\n",
       "</style>\n",
       "<table border=\"1\" class=\"dataframe\">\n",
       "  <thead>\n",
       "    <tr style=\"text-align: right;\">\n",
       "      <th></th>\n",
       "      <th>medical_specialty</th>\n",
       "      <th>transcription</th>\n",
       "    </tr>\n",
       "  </thead>\n",
       "  <tbody>\n",
       "    <tr>\n",
       "      <th>3</th>\n",
       "      <td>cardiovascular pulmonary</td>\n",
       "      <td>d m mode leave atrial enlargement left atrial ...</td>\n",
       "    </tr>\n",
       "    <tr>\n",
       "      <th>4</th>\n",
       "      <td>cardiovascular pulmonary</td>\n",
       "      <td>left ventricular cavity size wall thickness ap...</td>\n",
       "    </tr>\n",
       "    <tr>\n",
       "      <th>7</th>\n",
       "      <td>cardiovascular pulmonary</td>\n",
       "      <td>d echocardiogram multiple view heart great ves...</td>\n",
       "    </tr>\n",
       "    <tr>\n",
       "      <th>9</th>\n",
       "      <td>cardiovascular pulmonary</td>\n",
       "      <td>description normal cardiac chamber size normal...</td>\n",
       "    </tr>\n",
       "    <tr>\n",
       "      <th>11</th>\n",
       "      <td>cardiovascular pulmonary</td>\n",
       "      <td>d study mild aortic stenosis widely calcify mi...</td>\n",
       "    </tr>\n",
       "  </tbody>\n",
       "</table>\n",
       "</div>"
      ],
      "text/plain": [
       "           medical_specialty  \\\n",
       "3   cardiovascular pulmonary   \n",
       "4   cardiovascular pulmonary   \n",
       "7   cardiovascular pulmonary   \n",
       "9   cardiovascular pulmonary   \n",
       "11  cardiovascular pulmonary   \n",
       "\n",
       "                                        transcription  \n",
       "3   d m mode leave atrial enlargement left atrial ...  \n",
       "4   left ventricular cavity size wall thickness ap...  \n",
       "7   d echocardiogram multiple view heart great ves...  \n",
       "9   description normal cardiac chamber size normal...  \n",
       "11  d study mild aortic stenosis widely calcify mi...  "
      ]
     },
     "execution_count": 27,
     "metadata": {},
     "output_type": "execute_result"
    }
   ],
   "source": [
    "data.head()"
   ]
  },
  {
   "cell_type": "code",
   "execution_count": 32,
   "metadata": {},
   "outputs": [],
   "source": [
    "#create medical labels for medical specialty\n",
    "l= LabelEncoder()\n",
    "data['medical_label']= l.fit_transform(data['medical_specialty'])"
   ]
  },
  {
   "cell_type": "code",
   "execution_count": 34,
   "metadata": {},
   "outputs": [
    {
     "data": {
      "text/plain": [
       "3    303\n",
       "0    280\n",
       "4    251\n",
       "1    195\n",
       "2    168\n",
       "Name: medical_label, dtype: int64"
      ]
     },
     "execution_count": 34,
     "metadata": {},
     "output_type": "execute_result"
    }
   ],
   "source": [
    "data['medical_label'].value_counts()"
   ]
  },
  {
   "cell_type": "code",
   "execution_count": 37,
   "metadata": {},
   "outputs": [],
   "source": [
    "#create embeddings for word2vec model\n",
    "\n",
    "def getvector(text):\n",
    "    doc= nlp(text)\n",
    "    return doc.vector"
   ]
  },
  {
   "cell_type": "code",
   "execution_count": 42,
   "metadata": {},
   "outputs": [
    {
     "data": {
      "text/plain": [
       "(300,)"
      ]
     },
     "execution_count": 42,
     "metadata": {},
     "output_type": "execute_result"
    }
   ],
   "source": [
    "getvector(\"i am nitin\").shape"
   ]
  },
  {
   "cell_type": "code",
   "execution_count": 43,
   "metadata": {},
   "outputs": [],
   "source": [
    "#add a column of word2vec embeddings in the data\n",
    "data['word2vec_embed']= data['transcription'].apply(getvector)"
   ]
  },
  {
   "cell_type": "code",
   "execution_count": 44,
   "metadata": {},
   "outputs": [
    {
     "data": {
      "text/html": [
       "<div>\n",
       "<style scoped>\n",
       "    .dataframe tbody tr th:only-of-type {\n",
       "        vertical-align: middle;\n",
       "    }\n",
       "\n",
       "    .dataframe tbody tr th {\n",
       "        vertical-align: top;\n",
       "    }\n",
       "\n",
       "    .dataframe thead th {\n",
       "        text-align: right;\n",
       "    }\n",
       "</style>\n",
       "<table border=\"1\" class=\"dataframe\">\n",
       "  <thead>\n",
       "    <tr style=\"text-align: right;\">\n",
       "      <th></th>\n",
       "      <th>medical_specialty</th>\n",
       "      <th>transcription</th>\n",
       "      <th>medical_label</th>\n",
       "      <th>word2vec_embed</th>\n",
       "    </tr>\n",
       "  </thead>\n",
       "  <tbody>\n",
       "    <tr>\n",
       "      <th>3</th>\n",
       "      <td>cardiovascular pulmonary</td>\n",
       "      <td>d m mode leave atrial enlargement left atrial ...</td>\n",
       "      <td>0</td>\n",
       "      <td>[-0.39130253, 1.6925055, -0.97060895, 1.423319...</td>\n",
       "    </tr>\n",
       "    <tr>\n",
       "      <th>4</th>\n",
       "      <td>cardiovascular pulmonary</td>\n",
       "      <td>left ventricular cavity size wall thickness ap...</td>\n",
       "      <td>0</td>\n",
       "      <td>[-0.54487616, 1.3033527, -1.5350755, 1.3164338...</td>\n",
       "    </tr>\n",
       "    <tr>\n",
       "      <th>7</th>\n",
       "      <td>cardiovascular pulmonary</td>\n",
       "      <td>d echocardiogram multiple view heart great ves...</td>\n",
       "      <td>0</td>\n",
       "      <td>[-0.40531728, 0.8317133, -1.0865903, 0.2969002...</td>\n",
       "    </tr>\n",
       "    <tr>\n",
       "      <th>9</th>\n",
       "      <td>cardiovascular pulmonary</td>\n",
       "      <td>description normal cardiac chamber size normal...</td>\n",
       "      <td>0</td>\n",
       "      <td>[-0.3478441, 0.9546592, -1.0535976, 1.2019306,...</td>\n",
       "    </tr>\n",
       "    <tr>\n",
       "      <th>11</th>\n",
       "      <td>cardiovascular pulmonary</td>\n",
       "      <td>d study mild aortic stenosis widely calcify mi...</td>\n",
       "      <td>0</td>\n",
       "      <td>[0.27329454, 1.1477208, -0.88355297, 1.0739923...</td>\n",
       "    </tr>\n",
       "  </tbody>\n",
       "</table>\n",
       "</div>"
      ],
      "text/plain": [
       "           medical_specialty  \\\n",
       "3   cardiovascular pulmonary   \n",
       "4   cardiovascular pulmonary   \n",
       "7   cardiovascular pulmonary   \n",
       "9   cardiovascular pulmonary   \n",
       "11  cardiovascular pulmonary   \n",
       "\n",
       "                                        transcription  medical_label  \\\n",
       "3   d m mode leave atrial enlargement left atrial ...              0   \n",
       "4   left ventricular cavity size wall thickness ap...              0   \n",
       "7   d echocardiogram multiple view heart great ves...              0   \n",
       "9   description normal cardiac chamber size normal...              0   \n",
       "11  d study mild aortic stenosis widely calcify mi...              0   \n",
       "\n",
       "                                       word2vec_embed  \n",
       "3   [-0.39130253, 1.6925055, -0.97060895, 1.423319...  \n",
       "4   [-0.54487616, 1.3033527, -1.5350755, 1.3164338...  \n",
       "7   [-0.40531728, 0.8317133, -1.0865903, 0.2969002...  \n",
       "9   [-0.3478441, 0.9546592, -1.0535976, 1.2019306,...  \n",
       "11  [0.27329454, 1.1477208, -0.88355297, 1.0739923...  "
      ]
     },
     "execution_count": 44,
     "metadata": {},
     "output_type": "execute_result"
    }
   ],
   "source": [
    "data.head()"
   ]
  },
  {
   "cell_type": "code",
   "execution_count": 51,
   "metadata": {},
   "outputs": [],
   "source": [
    "# create precomputaions for fasttext model\n",
    "\n",
    "#we dont need spaces in any labels\n",
    "\n",
    "data.medical_specialty.replace(\"cardiovascular pulmonary\", \"cardiovascular_pulmonary\", inplace= True)\n",
    "\n",
    "data['fasttext_label']= \"__label__\" + data['medical_specialty'] + \" \" + data['transcription']"
   ]
  },
  {
   "cell_type": "code",
   "execution_count": 52,
   "metadata": {},
   "outputs": [
    {
     "data": {
      "text/html": [
       "<div>\n",
       "<style scoped>\n",
       "    .dataframe tbody tr th:only-of-type {\n",
       "        vertical-align: middle;\n",
       "    }\n",
       "\n",
       "    .dataframe tbody tr th {\n",
       "        vertical-align: top;\n",
       "    }\n",
       "\n",
       "    .dataframe thead th {\n",
       "        text-align: right;\n",
       "    }\n",
       "</style>\n",
       "<table border=\"1\" class=\"dataframe\">\n",
       "  <thead>\n",
       "    <tr style=\"text-align: right;\">\n",
       "      <th></th>\n",
       "      <th>medical_specialty</th>\n",
       "      <th>transcription</th>\n",
       "      <th>medical_label</th>\n",
       "      <th>word2vec_embed</th>\n",
       "      <th>fasttext_label</th>\n",
       "    </tr>\n",
       "  </thead>\n",
       "  <tbody>\n",
       "    <tr>\n",
       "      <th>3</th>\n",
       "      <td>cardiovascular_pulmonary</td>\n",
       "      <td>d m mode leave atrial enlargement left atrial ...</td>\n",
       "      <td>0</td>\n",
       "      <td>[-0.39130253, 1.6925055, -0.97060895, 1.423319...</td>\n",
       "      <td>__label__cardiovascular_pulmonary d m mode lea...</td>\n",
       "    </tr>\n",
       "    <tr>\n",
       "      <th>4</th>\n",
       "      <td>cardiovascular_pulmonary</td>\n",
       "      <td>left ventricular cavity size wall thickness ap...</td>\n",
       "      <td>0</td>\n",
       "      <td>[-0.54487616, 1.3033527, -1.5350755, 1.3164338...</td>\n",
       "      <td>__label__cardiovascular_pulmonary left ventric...</td>\n",
       "    </tr>\n",
       "    <tr>\n",
       "      <th>7</th>\n",
       "      <td>cardiovascular_pulmonary</td>\n",
       "      <td>d echocardiogram multiple view heart great ves...</td>\n",
       "      <td>0</td>\n",
       "      <td>[-0.40531728, 0.8317133, -1.0865903, 0.2969002...</td>\n",
       "      <td>__label__cardiovascular_pulmonary d echocardio...</td>\n",
       "    </tr>\n",
       "    <tr>\n",
       "      <th>9</th>\n",
       "      <td>cardiovascular_pulmonary</td>\n",
       "      <td>description normal cardiac chamber size normal...</td>\n",
       "      <td>0</td>\n",
       "      <td>[-0.3478441, 0.9546592, -1.0535976, 1.2019306,...</td>\n",
       "      <td>__label__cardiovascular_pulmonary description ...</td>\n",
       "    </tr>\n",
       "    <tr>\n",
       "      <th>11</th>\n",
       "      <td>cardiovascular_pulmonary</td>\n",
       "      <td>d study mild aortic stenosis widely calcify mi...</td>\n",
       "      <td>0</td>\n",
       "      <td>[0.27329454, 1.1477208, -0.88355297, 1.0739923...</td>\n",
       "      <td>__label__cardiovascular_pulmonary d study mild...</td>\n",
       "    </tr>\n",
       "  </tbody>\n",
       "</table>\n",
       "</div>"
      ],
      "text/plain": [
       "           medical_specialty  \\\n",
       "3   cardiovascular_pulmonary   \n",
       "4   cardiovascular_pulmonary   \n",
       "7   cardiovascular_pulmonary   \n",
       "9   cardiovascular_pulmonary   \n",
       "11  cardiovascular_pulmonary   \n",
       "\n",
       "                                        transcription  medical_label  \\\n",
       "3   d m mode leave atrial enlargement left atrial ...              0   \n",
       "4   left ventricular cavity size wall thickness ap...              0   \n",
       "7   d echocardiogram multiple view heart great ves...              0   \n",
       "9   description normal cardiac chamber size normal...              0   \n",
       "11  d study mild aortic stenosis widely calcify mi...              0   \n",
       "\n",
       "                                       word2vec_embed  \\\n",
       "3   [-0.39130253, 1.6925055, -0.97060895, 1.423319...   \n",
       "4   [-0.54487616, 1.3033527, -1.5350755, 1.3164338...   \n",
       "7   [-0.40531728, 0.8317133, -1.0865903, 0.2969002...   \n",
       "9   [-0.3478441, 0.9546592, -1.0535976, 1.2019306,...   \n",
       "11  [0.27329454, 1.1477208, -0.88355297, 1.0739923...   \n",
       "\n",
       "                                       fasttext_label  \n",
       "3   __label__cardiovascular_pulmonary d m mode lea...  \n",
       "4   __label__cardiovascular_pulmonary left ventric...  \n",
       "7   __label__cardiovascular_pulmonary d echocardio...  \n",
       "9   __label__cardiovascular_pulmonary description ...  \n",
       "11  __label__cardiovascular_pulmonary d study mild...  "
      ]
     },
     "execution_count": 52,
     "metadata": {},
     "output_type": "execute_result"
    }
   ],
   "source": [
    "data.head()"
   ]
  },
  {
   "cell_type": "code",
   "execution_count": 54,
   "metadata": {},
   "outputs": [],
   "source": [
    "# Return a csv file after all the cleaning, preprocess and precomputations \n",
    "data.to_csv(\"data/medical_new.csv\")"
   ]
  }
 ],
 "metadata": {
  "kernelspec": {
   "display_name": "Python 3",
   "language": "python",
   "name": "python3"
  },
  "language_info": {
   "codemirror_mode": {
    "name": "ipython",
    "version": 3
   },
   "file_extension": ".py",
   "mimetype": "text/x-python",
   "name": "python",
   "nbconvert_exporter": "python",
   "pygments_lexer": "ipython3",
   "version": "3.10.7"
  },
  "orig_nbformat": 4
 },
 "nbformat": 4,
 "nbformat_minor": 2
}
